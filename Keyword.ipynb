{
  "nbformat": 4,
  "nbformat_minor": 0,
  "metadata": {
    "colab": {
      "provenance": [],
      "authorship_tag": "ABX9TyPldenG9M8Y9FkiU1QKWVsz",
      "include_colab_link": true
    },
    "kernelspec": {
      "name": "python3",
      "display_name": "Python 3"
    },
    "language_info": {
      "name": "python"
    }
  },
  "cells": [
    {
      "cell_type": "markdown",
      "metadata": {
        "id": "view-in-github",
        "colab_type": "text"
      },
      "source": [
        "<a href=\"https://colab.research.google.com/github/KIISIISHERE/Keywords/blob/main/Keyword.ipynb\" target=\"_parent\"><img src=\"https://colab.research.google.com/assets/colab-badge.svg\" alt=\"Open In Colab\"/></a>"
      ]
    },
    {
      "cell_type": "code",
      "execution_count": 3,
      "metadata": {
        "colab": {
          "base_uri": "https://localhost:8080/"
        },
        "collapsed": true,
        "id": "bMSYSdHJAhit",
        "outputId": "96cac7cb-4dd8-4b15-f0a2-ac4d31c63d72"
      },
      "outputs": [
        {
          "output_type": "stream",
          "name": "stdout",
          "text": [
            "Enter your age(Type 'exit' to quit):exit\n",
            "Exiting program....\n"
          ]
        }
      ],
      "source": [
        "while True:\n",
        "    age = input(\"Enter your age(Type 'exit' to quit):\")\n",
        "    if age.lower() == 'exit':\n",
        "        print(\"Exiting program....\")\n",
        "        break\n",
        "    if not age.isdigit():\n",
        "        print(\"Invalid input\")\n",
        "        continue\n",
        "    print(\"You entered age:\", age)"
      ]
    },
    {
      "cell_type": "code",
      "source": [
        "students=int(input(\"Enter the number of students in the class:\"))\n",
        "for i in range(students):\n",
        "    name=input(f\"Enter the name of the student {i+1}:\")\n",
        "    if name==\"\":\n",
        "        pass\n",
        "    else:\n",
        "        print(f\"Student {i+1}:{name}\")\n",
        ""
      ],
      "metadata": {
        "colab": {
          "base_uri": "https://localhost:8080/"
        },
        "id": "njcP87e1A8N9",
        "outputId": "f722f177-5c10-4b3b-9829-ed0ca81ec5e4"
      },
      "execution_count": 7,
      "outputs": [
        {
          "output_type": "stream",
          "name": "stdout",
          "text": [
            "Enter the number of students in the class:2\n",
            "Enter the name of the student 1:Tiwa\n",
            "Student 1:Tiwa\n",
            "Enter the name of the student 2:Lila\n",
            "Student 2:Lila\n"
          ]
        }
      ]
    },
    {
      "cell_type": "code",
      "source": [
        "count=int(input(\"How many numbers do you want to print?\"))\n",
        "print(\"---OUTPUT---\")\n",
        "for i in range(count):\n",
        "    num=int(input(f\"Number {i+1}:\"))\n",
        "    if num%2==0:\n",
        "        print(\"Even number skipped\")\n",
        "        continue\n",
        "    print(num,\"is an odd number\")"
      ],
      "metadata": {
        "colab": {
          "base_uri": "https://localhost:8080/"
        },
        "id": "7B9YKWXaCxYI",
        "outputId": "5b2479f0-c78f-456d-bc92-9327f5eb06bf"
      },
      "execution_count": 10,
      "outputs": [
        {
          "output_type": "stream",
          "name": "stdout",
          "text": [
            "How many numbers do you want to print?10\n",
            "---OUTPUT---\n",
            "Number 1:1\n",
            "1 is an odd number\n",
            "Number 2:3\n",
            "3 is an odd number\n",
            "Number 3:5\n",
            "5 is an odd number\n",
            "Number 4:7\n",
            "7 is an odd number\n",
            "Number 5:9\n",
            "9 is an odd number\n",
            "Number 6:11\n",
            "11 is an odd number\n",
            "Number 7:13\n",
            "13 is an odd number\n",
            "Number 8:17\n",
            "17 is an odd number\n",
            "Number 9:19\n",
            "19 is an odd number\n",
            "Number 10:23\n",
            "23 is an odd number\n"
          ]
        }
      ]
    }
  ]
}